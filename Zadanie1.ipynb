{
  "nbformat": 4,
  "nbformat_minor": 0,
  "metadata": {
    "colab": {
      "provenance": []
    },
    "kernelspec": {
      "name": "python3",
      "display_name": "Python 3"
    },
    "language_info": {
      "name": "python"
    }
  },
  "cells": [
    {
      "cell_type": "code",
      "execution_count": 1,
      "metadata": {
        "id": "RM0GrzNftN10"
      },
      "outputs": [],
      "source": [
        "def dijkstra(graph, start, mode='list'):\n",
        "    \"\"\"\n",
        "    Реализация алгоритма Дейкстры.\n",
        "\n",
        "    :param graph: граф (список смежности или матрица смежности)\n",
        "    :param start: начальная вершина (имя вершины или индекс)\n",
        "    :param mode: 'list' для списка смежности, 'matrix' для матрицы смежности\n",
        "    :return: словарь с кратчайшими расстояниями от начальной вершины\n",
        "    \"\"\"\n",
        "\n",
        "    if mode == 'list':\n",
        "        vertices = list(graph.keys())\n",
        "        distances = {v: float('inf') for v in vertices}\n",
        "        distances[start] = 0\n",
        "        visited = set()\n",
        "\n",
        "        while len(visited) < len(vertices):\n",
        "            min_vertex = None\n",
        "            min_distance = float('inf')\n",
        "            for vertex in vertices:\n",
        "                if vertex not in visited and distances[vertex] < min_distance:\n",
        "                    min_vertex = vertex\n",
        "                    min_distance = distances[vertex]\n",
        "\n",
        "            if min_vertex is None:\n",
        "                break\n",
        "\n",
        "            visited.add(min_vertex)\n",
        "\n",
        "            for neighbor, weight in graph[min_vertex]:\n",
        "                if neighbor in visited:\n",
        "                    continue\n",
        "                new_distance = distances[min_vertex] + weight\n",
        "                if new_distance < distances[neighbor]:\n",
        "                    distances[neighbor] = new_distance\n",
        "\n",
        "        return distances\n",
        "\n",
        "    elif mode == 'matrix':\n",
        "        n = len(graph)\n",
        "        distances = [float('inf')] * n\n",
        "        distances[start] = 0\n",
        "        visited = [False] * n\n",
        "\n",
        "        for _ in range(n):\n",
        "            min_distance = float('inf')\n",
        "            u = -1\n",
        "            for i in range(n):\n",
        "                if not visited[i] and distances[i] < min_distance:\n",
        "                    min_distance = distances[i]\n",
        "                    u = i\n",
        "\n",
        "            if u == -1:\n",
        "                break\n",
        "\n",
        "            visited[u] = True\n",
        "\n",
        "            for v in range(n):\n",
        "                if graph[u][v] > 0 and not visited[v]:\n",
        "                    new_distance = distances[u] + graph[u][v]\n",
        "                    if new_distance < distances[v]:\n",
        "                        distances[v] = new_distance\n",
        "\n",
        "        return {i: distances[i] for i in range(n)}\n",
        "\n",
        "    else:\n",
        "        raise ValueError(\"Неверный режим. Используйте 'list' или 'matrix'.\")"
      ]
    },
    {
      "cell_type": "code",
      "source": [
        "# Пример графа в виде списка смежности\n",
        "graph_list = {\n",
        "    'A': [('B', 5), ('C', 1)],\n",
        "    'B': [('A', 5), ('C', 2), ('D', 1)],\n",
        "    'C': [('A', 1), ('B', 2), ('D', 4), ('E', 8)],\n",
        "    'D': [('B', 1), ('C', 4), ('E', 3), ('F', 6)],\n",
        "    'E': [('C', 8), ('D', 3)],\n",
        "    'F': [('D', 6)]\n",
        "}\n",
        "\n",
        "# Пример графа в виде матрицы смежности\n",
        "graph_matrix = [\n",
        "    [0, 5, 1, 0, 0, 0],\n",
        "    [5, 0, 2, 1, 0, 0],\n",
        "    [1, 2, 0, 4, 8, 0],\n",
        "    [0, 1, 4, 0, 3, 6],\n",
        "    [0, 0, 8, 3, 0, 0],\n",
        "    [0, 0, 0, 6, 0, 0]\n",
        "]"
      ],
      "metadata": {
        "id": "2mRFVs5yy7Ww"
      },
      "execution_count": 2,
      "outputs": []
    },
    {
      "cell_type": "code",
      "source": [
        "print(\"Кратчайшие пути от A (список смежности):\")\n",
        "result_list = dijkstra(graph_list, 'A', mode='list')\n",
        "for v, d in result_list.items():\n",
        "    print(f\"A → {v}: {d}\")\n",
        "\n",
        "print(\"\\nКратчайшие пути от вершины 0 (матрица смежности):\")\n",
        "result_matrix = dijkstra(graph_matrix, 0, mode='matrix')\n",
        "for v, d in result_matrix.items():\n",
        "    print(f\"0 → {v}: {d}\")"
      ],
      "metadata": {
        "colab": {
          "base_uri": "https://localhost:8080/"
        },
        "id": "xvhXsIhqzAX-",
        "outputId": "b45bbe06-73d9-4227-a10a-69fb11715cd3"
      },
      "execution_count": 3,
      "outputs": [
        {
          "output_type": "stream",
          "name": "stdout",
          "text": [
            "Кратчайшие пути от A (список смежности):\n",
            "A → A: 0\n",
            "A → B: 3\n",
            "A → C: 1\n",
            "A → D: 4\n",
            "A → E: 7\n",
            "A → F: 10\n",
            "\n",
            "Кратчайшие пути от вершины 0 (матрица смежности):\n",
            "0 → 0: 0\n",
            "0 → 1: 3\n",
            "0 → 2: 1\n",
            "0 → 3: 4\n",
            "0 → 4: 7\n",
            "0 → 5: 10\n"
          ]
        }
      ]
    }
  ]
}