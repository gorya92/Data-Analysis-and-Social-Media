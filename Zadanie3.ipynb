{
  "nbformat": 4,
  "nbformat_minor": 0,
  "metadata": {
    "colab": {
      "provenance": []
    },
    "kernelspec": {
      "name": "python3",
      "display_name": "Python 3"
    },
    "language_info": {
      "name": "python"
    }
  },
  "cells": [
    {
      "cell_type": "code",
      "source": [
        "import networkx as nx\n",
        "import numpy as np"
      ],
      "metadata": {
        "id": "gvPlvg5k3Lbt"
      },
      "execution_count": 1,
      "outputs": []
    },
    {
      "cell_type": "code",
      "execution_count": 2,
      "metadata": {
        "colab": {
          "base_uri": "https://localhost:8080/"
        },
        "id": "46Q6dpOp2zIo",
        "outputId": "19ba71b9-0e54-4fbc-ee1c-afc418c4aa45"
      },
      "outputs": [
        {
          "output_type": "stream",
          "name": "stdout",
          "text": [
            "=== Результаты ===\n",
            "Число вершин: 60\n",
            "Вероятность ребра (p): 0.45\n",
            "Средняя степень (эмпирическая): 26.80\n",
            "Средняя степень (теоретическая): 26.55\n",
            "Отклонение: 0.25\n"
          ]
        }
      ],
      "source": [
        "# Параметры графа\n",
        "n = 60     # число вершин\n",
        "p = 0.45   # вероятность появления ребра между двумя вершинами\n",
        "\n",
        "# 1. Генерация графа Эрдёша-Реньи\n",
        "G = nx.erdos_renyi_graph(n, p)\n",
        "\n",
        "# 2. Вычисление средней степени вершин (эмпирически)\n",
        "degrees = [deg for node, deg in G.degree()]\n",
        "average_empirical = np.mean(degrees)\n",
        "\n",
        "# 3. Теоретическая средняя степень по формуле\n",
        "average_theoretical = p * (n - 1)\n",
        "\n",
        "# 4. Вывод результатов\n",
        "print(\"=== Результаты ===\")\n",
        "print(f\"Число вершин: {n}\")\n",
        "print(f\"Вероятность ребра (p): {p}\")\n",
        "print(f\"Средняя степень (эмпирическая): {average_empirical:.2f}\")\n",
        "print(f\"Средняя степень (теоретическая): {average_theoretical:.2f}\")\n",
        "print(f\"Отклонение: {abs(average_empirical - average_theoretical):.2f}\")"
      ]
    }
  ]
}